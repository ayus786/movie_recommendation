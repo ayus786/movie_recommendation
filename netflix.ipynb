{
 "cells": [
  {
   "cell_type": "code",
   "execution_count": 1,
   "metadata": {
    "id": "6unnuR_QC_2m"
   },
   "outputs": [],
   "source": [
    "import pandas as pd"
   ]
  },
  {
   "cell_type": "code",
   "execution_count": 2,
   "metadata": {
    "id": "pISmH4H2DJhv"
   },
   "outputs": [],
   "source": [
    "df = pd.read_csv('netflix_titles.csv')"
   ]
  },
  {
   "cell_type": "code",
   "execution_count": 3,
   "metadata": {
    "colab": {
     "base_uri": "https://localhost:8080/"
    },
    "id": "2Zfr1grIIHV8",
    "outputId": "3d14c118-e92e-4188-ddf2-48ec867d3b40"
   },
   "outputs": [
    {
     "data": {
      "text/plain": [
       "(7787, 12)"
      ]
     },
     "execution_count": 3,
     "metadata": {},
     "output_type": "execute_result"
    }
   ],
   "source": [
    "df.shape"
   ]
  },
  {
   "cell_type": "code",
   "execution_count": 4,
   "metadata": {
    "colab": {
     "base_uri": "https://localhost:8080/"
    },
    "id": "Vfjtj1oeILp8",
    "outputId": "ecc73ba0-dd61-4579-9bda-2ada86a9691b"
   },
   "outputs": [
    {
     "data": {
      "text/plain": [
       "show_id          0.000000\n",
       "type             0.000000\n",
       "title            0.000000\n",
       "director        30.679337\n",
       "cast             9.220496\n",
       "country          6.510851\n",
       "date_added       0.128419\n",
       "release_year     0.000000\n",
       "rating           0.089893\n",
       "duration         0.000000\n",
       "listed_in        0.000000\n",
       "description      0.000000\n",
       "dtype: float64"
      ]
     },
     "execution_count": 4,
     "metadata": {},
     "output_type": "execute_result"
    }
   ],
   "source": [
    "df.isnull().sum()/(len(df))*100"
   ]
  },
  {
   "cell_type": "code",
   "execution_count": 5,
   "metadata": {
    "id": "UyIJN-4KIumq"
   },
   "outputs": [],
   "source": [
    "director = df.dropna(axis=1)\n",
    "df.date_added.fillna(\"unknowm\",inplace=True)"
   ]
  },
  {
   "cell_type": "code",
   "execution_count": 6,
   "metadata": {
    "id": "biNhD1RIVC2c"
   },
   "outputs": [],
   "source": [
    "df = df.dropna( how='any',subset=['cast', 'director'])"
   ]
  },
  {
   "cell_type": "code",
   "execution_count": 7,
   "metadata": {
    "id": "vk2prY5HJUvG"
   },
   "outputs": [],
   "source": [
    "import seaborn as sns"
   ]
  },
  {
   "cell_type": "code",
   "execution_count": 8,
   "metadata": {
    "colab": {
     "base_uri": "https://localhost:8080/"
    },
    "id": "MMpMWoxNJbRu",
    "outputId": "2bab11dc-e341-4719-f92a-5fe988294c26"
   },
   "outputs": [
    {
     "data": {
      "text/plain": [
       "show_id           0\n",
       "type              0\n",
       "title             0\n",
       "director          0\n",
       "cast              0\n",
       "country         167\n",
       "date_added        0\n",
       "release_year      0\n",
       "rating            4\n",
       "duration          0\n",
       "listed_in         0\n",
       "description       0\n",
       "dtype: int64"
      ]
     },
     "execution_count": 8,
     "metadata": {},
     "output_type": "execute_result"
    }
   ],
   "source": [
    "df.isnull().sum()"
   ]
  },
  {
   "cell_type": "code",
   "execution_count": 9,
   "metadata": {
    "id": "-o5rhdUVJ009"
   },
   "outputs": [],
   "source": [
    "df['year'] = df.date_added.apply(lambda x:str(x).split(',')[-1])"
   ]
  },
  {
   "cell_type": "code",
   "execution_count": 10,
   "metadata": {
    "colab": {
     "base_uri": "https://localhost:8080/"
    },
    "id": "OL6uJ_kaKPOP",
    "outputId": "ea5382b3-367e-43e7-bf99-56f48f33afa1"
   },
   "outputs": [
    {
     "data": {
      "text/plain": [
       " 2019    1395\n",
       " 2020    1284\n",
       " 2018    1139\n",
       " 2017     771\n",
       " 2016     211\n",
       " 2021      87\n",
       " 2015      51\n",
       " 2014      14\n",
       " 2011      13\n",
       " 2013       7\n",
       " 2012       3\n",
       " 2009       2\n",
       " 2008       1\n",
       " 2010       1\n",
       "Name: year, dtype: int64"
      ]
     },
     "execution_count": 10,
     "metadata": {},
     "output_type": "execute_result"
    }
   ],
   "source": [
    "df['year'].value_counts()"
   ]
  },
  {
   "cell_type": "code",
   "execution_count": 11,
   "metadata": {
    "id": "gxrnwbWcKULJ"
   },
   "outputs": [],
   "source": [
    "df['year'] = df['year'].replace(\"unknown\",\"2019\")"
   ]
  },
  {
   "cell_type": "code",
   "execution_count": 12,
   "metadata": {
    "colab": {
     "base_uri": "https://localhost:8080/"
    },
    "id": "MZqZWKo7Lo8j",
    "outputId": "c6a59c5c-dcdf-40a0-e1fb-4b5946e0a1cf"
   },
   "outputs": [
    {
     "data": {
      "text/plain": [
       "False    4979\n",
       "Name: year, dtype: int64"
      ]
     },
     "execution_count": 12,
     "metadata": {},
     "output_type": "execute_result"
    }
   ],
   "source": [
    "df['year'].isnull().value_counts()"
   ]
  },
  {
   "cell_type": "code",
   "execution_count": 13,
   "metadata": {
    "colab": {
     "base_uri": "https://localhost:8080/"
    },
    "id": "8uJEjVpZLwAt",
    "outputId": "c93b9b78-67ba-45f5-c269-d138678b7dae"
   },
   "outputs": [
    {
     "data": {
      "text/plain": [
       "United States                                          1656\n",
       "India                                                   832\n",
       "United Kingdom                                          174\n",
       "Canada                                                  104\n",
       "Egypt                                                    87\n",
       "                                                       ... \n",
       "Uruguay, Argentina, Germany, Spain                        1\n",
       "United Kingdom, India, United States                      1\n",
       "Argentina, Brazil, France, Poland, Germany, Denmark       1\n",
       "Denmark, Sweden, Israel, United States                    1\n",
       "Chile, Spain, Argentina, Germany                          1\n",
       "Name: country, Length: 544, dtype: int64"
      ]
     },
     "execution_count": 13,
     "metadata": {},
     "output_type": "execute_result"
    }
   ],
   "source": [
    "df.country.value_counts()"
   ]
  },
  {
   "cell_type": "code",
   "execution_count": 14,
   "metadata": {
    "id": "PMkCodUgMIA_"
   },
   "outputs": [],
   "source": [
    "df['country'].fillna(\"United States\",inplace=True)"
   ]
  },
  {
   "cell_type": "code",
   "execution_count": 15,
   "metadata": {
    "colab": {
     "base_uri": "https://localhost:8080/"
    },
    "id": "x1p6EtFWNmWu",
    "outputId": "2afa8c10-940f-4f0d-ec20-c33197be95ea"
   },
   "outputs": [
    {
     "data": {
      "text/plain": [
       "show_id         0\n",
       "type            0\n",
       "title           0\n",
       "director        0\n",
       "cast            0\n",
       "country         0\n",
       "date_added      0\n",
       "release_year    0\n",
       "rating          4\n",
       "duration        0\n",
       "listed_in       0\n",
       "description     0\n",
       "year            0\n",
       "dtype: int64"
      ]
     },
     "execution_count": 15,
     "metadata": {},
     "output_type": "execute_result"
    }
   ],
   "source": [
    "df.isnull().sum()"
   ]
  },
  {
   "cell_type": "code",
   "execution_count": 16,
   "metadata": {
    "colab": {
     "base_uri": "https://localhost:8080/"
    },
    "id": "IB87bq4JNz6-",
    "outputId": "f623c2bb-14e3-46d9-c91c-82aaa3de4f93"
   },
   "outputs": [
    {
     "data": {
      "text/plain": [
       "False    4975\n",
       "True        4\n",
       "Name: rating, dtype: int64"
      ]
     },
     "execution_count": 16,
     "metadata": {},
     "output_type": "execute_result"
    }
   ],
   "source": [
    "df['rating'].isnull().value_counts()"
   ]
  },
  {
   "cell_type": "code",
   "execution_count": 17,
   "metadata": {
    "colab": {
     "base_uri": "https://localhost:8080/"
    },
    "id": "JVsXJGYpOHo5",
    "outputId": "79d627d2-dcb7-4278-d510-fd12c65b577a"
   },
   "outputs": [
    {
     "data": {
      "text/plain": [
       "TV-MA       1724\n",
       "TV-14       1183\n",
       "R            656\n",
       "TV-PG        426\n",
       "PG-13        378\n",
       "PG           241\n",
       "TV-Y          90\n",
       "TV-G          85\n",
       "TV-Y7         82\n",
       "NR            62\n",
       "G             38\n",
       "UR             5\n",
       "TV-Y7-FV       3\n",
       "NC-17          2\n",
       "Name: rating, dtype: int64"
      ]
     },
     "execution_count": 17,
     "metadata": {},
     "output_type": "execute_result"
    }
   ],
   "source": [
    "df['rating'].value_counts()"
   ]
  },
  {
   "cell_type": "code",
   "execution_count": 18,
   "metadata": {
    "id": "b8j17r91OPb7"
   },
   "outputs": [],
   "source": [
    "df['rating'].fillna(\"TV-MA\",inplace=True)"
   ]
  },
  {
   "cell_type": "code",
   "execution_count": 19,
   "metadata": {
    "id": "-5hoOCSNOeCE"
   },
   "outputs": [],
   "source": [
    "df['year'] = df['year'].apply(lambda x:str(x).replace(\" \",\"\"))"
   ]
  },
  {
   "cell_type": "code",
   "execution_count": 20,
   "metadata": {
    "colab": {
     "base_uri": "https://localhost:8080/"
    },
    "id": "RogYVIhjOw1v",
    "outputId": "5dea70ed-e4f4-4779-9761-433b88388240"
   },
   "outputs": [
    {
     "data": {
      "text/plain": [
       "False    4979\n",
       "Name: rating, dtype: int64"
      ]
     },
     "execution_count": 20,
     "metadata": {},
     "output_type": "execute_result"
    }
   ],
   "source": [
    "df['rating'].isnull().value_counts()"
   ]
  },
  {
   "cell_type": "code",
   "execution_count": 21,
   "metadata": {
    "colab": {
     "base_uri": "https://localhost:8080/"
    },
    "id": "4eOKJNHXO4jI",
    "outputId": "ff767e64-1c8b-4af0-d934-6a0abbdd58de"
   },
   "outputs": [
    {
     "data": {
      "text/plain": [
       "show_id         0\n",
       "type            0\n",
       "title           0\n",
       "director        0\n",
       "cast            0\n",
       "country         0\n",
       "date_added      0\n",
       "release_year    0\n",
       "rating          0\n",
       "duration        0\n",
       "listed_in       0\n",
       "description     0\n",
       "year            0\n",
       "dtype: int64"
      ]
     },
     "execution_count": 21,
     "metadata": {},
     "output_type": "execute_result"
    }
   ],
   "source": [
    "df.isnull().sum()"
   ]
  },
  {
   "cell_type": "code",
   "execution_count": 22,
   "metadata": {
    "id": "lbFXXPElPV--"
   },
   "outputs": [],
   "source": [
    "df['listed_in'] = df['listed_in'].apply(lambda x:str(x).split(\",\")[0])"
   ]
  },
  {
   "cell_type": "code",
   "execution_count": 23,
   "metadata": {
    "colab": {
     "base_uri": "https://localhost:8080/"
    },
    "id": "RXJevavlcgHJ",
    "outputId": "5a4cbcee-db6d-4830-fc14-8f7b7a8692e1"
   },
   "outputs": [
    {
     "data": {
      "text/plain": [
       "1                    Dramas\n",
       "2             Horror Movies\n",
       "3        Action & Adventure\n",
       "4                    Dramas\n",
       "5    International TV Shows\n",
       "Name: listed_in, dtype: object"
      ]
     },
     "execution_count": 23,
     "metadata": {},
     "output_type": "execute_result"
    }
   ],
   "source": [
    "df['listed_in'].head()"
   ]
  },
  {
   "cell_type": "code",
   "execution_count": 24,
   "metadata": {
    "colab": {
     "base_uri": "https://localhost:8080/"
    },
    "id": "ypAuGrBgcpKS",
    "outputId": "14cc8046-16d3-4bc9-d5f7-4470bca90988"
   },
   "outputs": [
    {
     "data": {
      "text/plain": [
       "Movie      4834\n",
       "TV Show     145\n",
       "Name: type, dtype: int64"
      ]
     },
     "execution_count": 24,
     "metadata": {},
     "output_type": "execute_result"
    }
   ],
   "source": [
    "df['type'].value_counts()"
   ]
  },
  {
   "cell_type": "code",
   "execution_count": 25,
   "metadata": {
    "colab": {
     "base_uri": "https://localhost:8080/"
    },
    "id": "J--nZ0J_c64V",
    "outputId": "5f900c22-6dba-4fe0-aa1f-c7ffc994b5ca"
   },
   "outputs": [
    {
     "data": {
      "text/plain": [
       "TV-MA       1728\n",
       "TV-14       1183\n",
       "R            656\n",
       "TV-PG        426\n",
       "PG-13        378\n",
       "PG           241\n",
       "TV-Y          90\n",
       "TV-G          85\n",
       "TV-Y7         82\n",
       "NR            62\n",
       "G             38\n",
       "UR             5\n",
       "TV-Y7-FV       3\n",
       "NC-17          2\n",
       "Name: rating, dtype: int64"
      ]
     },
     "execution_count": 25,
     "metadata": {},
     "output_type": "execute_result"
    }
   ],
   "source": [
    "df['rating'].value_counts()"
   ]
  },
  {
   "cell_type": "code",
   "execution_count": 26,
   "metadata": {
    "id": "HDCqC6mldCJ3"
   },
   "outputs": [],
   "source": [
    "movie_df = df[df['type']==\"Movie\"]\n",
    "TV_df = df[df['type']==\"TV Show\"]"
   ]
  },
  {
   "cell_type": "code",
   "execution_count": 27,
   "metadata": {
    "colab": {
     "base_uri": "https://localhost:8080/",
     "height": 297
    },
    "id": "cWpfxaeLe1dv",
    "outputId": "aa82c2cf-13ca-4c1f-b5f6-2e31bec56680"
   },
   "outputs": [
    {
     "data": {
      "text/plain": [
       "<AxesSubplot:xlabel='type', ylabel='count'>"
      ]
     },
     "execution_count": 27,
     "metadata": {},
     "output_type": "execute_result"
    },
    {
     "data": {
      "image/png": "[encoded data removed]",
      "text/plain": [
       "<Figure size 432x288 with 1 Axes>"
      ]
     },
     "metadata": {},
     "output_type": "display_data"
    }
   ],
   "source": [
    "sns.set_style(\"whitegrid\")\n",
    "sns.countplot(x=\"type\",data=df,palette=\"bright\")"
   ]
  },
  {
   "cell_type": "code",
   "execution_count": 28,
   "metadata": {
    "colab": {
     "base_uri": "https://localhost:8080/",
     "height": 296
    },
    "id": "YJVm6awJg9er",
    "outputId": "c7f15f9b-891c-4a66-a821-e94a66e953c1"
   },
   "outputs": [
    {
     "data": {
      "text/plain": [
       "<AxesSubplot:xlabel='rating', ylabel='count'>"
      ]
     },
     "execution_count": 28,
     "metadata": {},
     "output_type": "execute_result"
    },
    {
     "data": {
      "image/png": "[encoded data removed]",
      "text/plain": [
       "<Figure size 432x288 with 1 Axes>"
      ]
     },
     "metadata": {},
     "output_type": "display_data"
    }
   ],
   "source": [
    "sns.countplot(x=df['rating'],data=movie_df,palette='bright')"
   ]
  },
  {
   "cell_type": "code",
   "execution_count": 29,
   "metadata": {
    "colab": {
     "base_uri": "https://localhost:8080/",
     "height": 623
    },
    "id": "EeHW-iQ-iyq-",
    "outputId": "afccf2d4-d0f5-48e2-fd48-936ec652f648"
   },
   "outputs": [
    {
     "data": {
      "text/plain": [
       "<AxesSubplot:xlabel='rating', ylabel='count'>"
      ]
     },
     "execution_count": 29,
     "metadata": {},
     "output_type": "execute_result"
    },
    {
     "data": {
      "image/png": "[encoded data removed]",
      "text/plain": [
       "<Figure size 864x720 with 1 Axes>"
      ]
     },
     "metadata": {
      "needs_background": "light"
     },
     "output_type": "display_data"
    }
   ],
   "source": [
    "import matplotlib.pyplot as plt\n",
    "%matplotlib inline\n",
    "plt.figure(figsize=(12,10))\n",
    "sns.countplot(x=\"rating\", data= movie_df, palette=\"bright\", order=movie_df['rating'].value_counts().index[0:15])"
   ]
  },
  {
   "cell_type": "code",
   "execution_count": 30,
   "metadata": {
    "colab": {
     "base_uri": "https://localhost:8080/",
     "height": 623
    },
    "id": "aOZPN4rZi_wC",
    "outputId": "194fb089-6794-4e1b-a2a2-e2a74e86a44b"
   },
   "outputs": [
    {
     "data": {
      "text/plain": [
       "<AxesSubplot:xlabel='rating', ylabel='count'>"
      ]
     },
     "execution_count": 30,
     "metadata": {},
     "output_type": "execute_result"
    },
    {
     "data": {
      "image/png": "[encoded data removed]",
      "text/plain": [
       "<Figure size 864x720 with 1 Axes>"
      ]
     },
     "metadata": {
      "needs_background": "light"
     },
     "output_type": "display_data"
    }
   ],
   "source": [
    "plt.figure(figsize=(12,10))\n",
    "sns.countplot(x=\"rating\", data= TV_df, palette=\"Accent\", order=TV_df['rating'].value_counts().index[0:15])"
   ]
  },
  {
   "cell_type": "code",
   "execution_count": 31,
   "metadata": {
    "colab": {
     "base_uri": "https://localhost:8080/",
     "height": 623
    },
    "id": "YmaAhb40k1wN",
    "outputId": "15f0952e-146c-4708-d1ad-12a37ad6b370"
   },
   "outputs": [
    {
     "data": {
      "text/plain": [
       "<AxesSubplot:xlabel='count', ylabel='release_year'>"
      ]
     },
     "execution_count": 31,
     "metadata": {},
     "output_type": "execute_result"
    },
    {
     "data": {
      "image/png": "[encoded data removed]",
      "text/plain": [
       "<Figure size 864x720 with 1 Axes>"
      ]
     },
     "metadata": {
      "needs_background": "light"
     },
     "output_type": "display_data"
    }
   ],
   "source": [
    "plt.figure(figsize=(12,10))\n",
    "sns.set_style(\"darkgrid\")\n",
    "sns.countplot(y=\"release_year\",data=df,palette=\"cool\",order=df['release_year'].value_counts().index[0:20],hue=df['type'])"
   ]
  },
  {
   "cell_type": "code",
   "execution_count": 32,
   "metadata": {
    "colab": {
     "base_uri": "https://localhost:8080/"
    },
    "id": "a3_Wx5C5qVYI",
    "outputId": "1e9b2402-ab84-49c1-eab9-57cee21bdd03"
   },
   "outputs": [
    {
     "data": {
      "text/plain": [
       "1        93\n",
       "2        78\n",
       "3        80\n",
       "4       123\n",
       "6        95\n",
       "       ... \n",
       "7778     88\n",
       "7780     94\n",
       "7781     88\n",
       "7782     99\n",
       "7783    111\n",
       "Name: duration, Length: 4834, dtype: int32"
      ]
     },
     "execution_count": 32,
     "metadata": {},
     "output_type": "execute_result"
    }
   ],
   "source": [
    "import warnings\n",
    "warnings.filterwarnings(\"ignore\")\n",
    "movie_df['duration']=movie_df['duration'].str.replace(' min','')\n",
    "movie_df['duration']=movie_df['duration'].astype(str).astype(int)\n",
    "movie_df['duration']"
   ]
  },
  {
   "cell_type": "code",
   "execution_count": 33,
   "metadata": {
    "colab": {
     "base_uri": "https://localhost:8080/",
     "height": 296
    },
    "id": "FkGAl4Warg12",
    "outputId": "e715ea82-4ea8-4c7c-98c8-2c47740e9234"
   },
   "outputs": [
    {
     "data": {
      "text/plain": [
       "<AxesSubplot:xlabel='duration', ylabel='Density'>"
      ]
     },
     "execution_count": 33,
     "metadata": {},
     "output_type": "execute_result"
    },
    {
     "data": {
      "image/png": "[encoded data removed]",
      "text/plain": [
       "<Figure size 432x288 with 1 Axes>"
      ]
     },
     "metadata": {},
     "output_type": "display_data"
    }
   ],
   "source": [
    "sns.set_style(\"darkgrid\")\n",
    "sns.kdeplot(data=movie_df[\"duration\"],shade=True)"
   ]
  },
  {
   "cell_type": "code",
   "execution_count": 34,
   "metadata": {
    "id": "bHsxoUkmsEdZ"
   },
   "outputs": [],
   "source": [
    "duration_year = movie_df.groupby(\"release_year\").mean()\n",
    "duration_year = duration_year.sort_index()"
   ]
  },
  {
   "cell_type": "code",
   "execution_count": 35,
   "metadata": {
    "colab": {
     "base_uri": "https://localhost:8080/",
     "height": 406
    },
    "id": "FOC2veQCs_vR",
    "outputId": "07641b6b-f538-4af0-eab3-9b4a67683ea6"
   },
   "outputs": [
    {
     "data": {
      "text/plain": [
       "<AxesSubplot:xlabel='release_year'>"
      ]
     },
     "execution_count": 35,
     "metadata": {},
     "output_type": "execute_result"
    },
    {
     "data": {
      "image/png": "[encoded data removed]",
      "text/plain": [
       "<Figure size 1080x432 with 1 Axes>"
      ]
     },
     "metadata": {},
     "output_type": "display_data"
    }
   ],
   "source": [
    "plt.figure(figsize=(15,6))\n",
    "sns.lineplot(x=duration_year.index, y=duration_year.duration.values)"
   ]
  },
  {
   "cell_type": "code",
   "execution_count": 36,
   "metadata": {
    "colab": {
     "base_uri": "https://localhost:8080/"
    },
    "id": "BX5oN8uSMrfx",
    "outputId": "a823bbea-d342-4ade-ac33-f24f00c1cdb3"
   },
   "outputs": [
    {
     "data": {
      "text/plain": [
       "5       1\n",
       "132     1\n",
       "218     1\n",
       "260     1\n",
       "276     1\n",
       "       ..\n",
       "7385    1\n",
       "7400    4\n",
       "7492    1\n",
       "7666    2\n",
       "7721    2\n",
       "Name: duration, Length: 145, dtype: int32"
      ]
     },
     "execution_count": 36,
     "metadata": {},
     "output_type": "execute_result"
    }
   ],
   "source": [
    "TV_df['duration']=TV_df['duration'].str.replace(' Season','')\n",
    "TV_df['duration']=TV_df['duration'].str.replace('s','')\n",
    "TV_df['duration']=TV_df['duration'].astype(str).astype(int)\n",
    "TV_df['duration']"
   ]
  },
  {
   "cell_type": "code",
   "execution_count": 37,
   "metadata": {
    "id": "ftTssdCwNID3"
   },
   "outputs": [],
   "source": [
    "columns = ['title','duration']\n",
    "tv_show = TV_df[columns]"
   ]
  },
  {
   "cell_type": "code",
   "execution_count": 38,
   "metadata": {
    "colab": {
     "base_uri": "https://localhost:8080/",
     "height": 665
    },
    "id": "a0WB3_MNNbLw",
    "outputId": "4854f56f-1abb-4b4a-e765-691510efe271"
   },
   "outputs": [
    {
     "data": {
      "text/html": [
       "<div>\n",
       "<style scoped>\n",
       "    .dataframe tbody tr th:only-of-type {\n",
       "        vertical-align: middle;\n",
       "    }\n",
       "\n",
       "    .dataframe tbody tr th {\n",
       "        vertical-align: top;\n",
       "    }\n",
       "\n",
       "    .dataframe thead th {\n",
       "        text-align: right;\n",
       "    }\n",
       "</style>\n",
       "<table border=\"1\" class=\"dataframe\">\n",
       "  <thead>\n",
       "    <tr style=\"text-align: right;\">\n",
       "      <th></th>\n",
       "      <th>title</th>\n",
       "      <th>duration</th>\n",
       "    </tr>\n",
       "  </thead>\n",
       "  <tbody>\n",
       "    <tr>\n",
       "      <th>5912</th>\n",
       "      <td>Supernatural</td>\n",
       "      <td>15</td>\n",
       "    </tr>\n",
       "    <tr>\n",
       "      <th>4404</th>\n",
       "      <td>Naruto</td>\n",
       "      <td>9</td>\n",
       "    </tr>\n",
       "    <tr>\n",
       "      <th>1181</th>\n",
       "      <td>Call the Midwife</td>\n",
       "      <td>9</td>\n",
       "    </tr>\n",
       "    <tr>\n",
       "      <th>584</th>\n",
       "      <td>Arrow</td>\n",
       "      <td>8</td>\n",
       "    </tr>\n",
       "    <tr>\n",
       "      <th>6415</th>\n",
       "      <td>The Great British Baking Show</td>\n",
       "      <td>8</td>\n",
       "    </tr>\n",
       "    <tr>\n",
       "      <th>5291</th>\n",
       "      <td>Royal Pains</td>\n",
       "      <td>8</td>\n",
       "    </tr>\n",
       "    <tr>\n",
       "      <th>6359</th>\n",
       "      <td>The Flash</td>\n",
       "      <td>6</td>\n",
       "    </tr>\n",
       "    <tr>\n",
       "      <th>2130</th>\n",
       "      <td>Father Brown</td>\n",
       "      <td>6</td>\n",
       "    </tr>\n",
       "    <tr>\n",
       "      <th>1470</th>\n",
       "      <td>Comedians in Cars Getting Coffee</td>\n",
       "      <td>6</td>\n",
       "    </tr>\n",
       "    <tr>\n",
       "      <th>2313</th>\n",
       "      <td>Fullmetal Alchemist: Brotherhood</td>\n",
       "      <td>5</td>\n",
       "    </tr>\n",
       "    <tr>\n",
       "      <th>5908</th>\n",
       "      <td>Supergirl</td>\n",
       "      <td>5</td>\n",
       "    </tr>\n",
       "    <tr>\n",
       "      <th>2504</th>\n",
       "      <td>Gotham</td>\n",
       "      <td>5</td>\n",
       "    </tr>\n",
       "    <tr>\n",
       "      <th>1647</th>\n",
       "      <td>DC's Legends of Tomorrow</td>\n",
       "      <td>5</td>\n",
       "    </tr>\n",
       "    <tr>\n",
       "      <th>4121</th>\n",
       "      <td>Miraculous: Tales of Ladybug &amp; Cat Noir</td>\n",
       "      <td>5</td>\n",
       "    </tr>\n",
       "    <tr>\n",
       "      <th>4047</th>\n",
       "      <td>Merlin</td>\n",
       "      <td>5</td>\n",
       "    </tr>\n",
       "    <tr>\n",
       "      <th>4033</th>\n",
       "      <td>Men on a Mission</td>\n",
       "      <td>5</td>\n",
       "    </tr>\n",
       "    <tr>\n",
       "      <th>5226</th>\n",
       "      <td>Riverdale</td>\n",
       "      <td>4</td>\n",
       "    </tr>\n",
       "    <tr>\n",
       "      <th>3544</th>\n",
       "      <td>Last Tango in Halifax</td>\n",
       "      <td>4</td>\n",
       "    </tr>\n",
       "    <tr>\n",
       "      <th>1687</th>\n",
       "      <td>Degrassi: Next Class</td>\n",
       "      <td>4</td>\n",
       "    </tr>\n",
       "    <tr>\n",
       "      <th>7400</th>\n",
       "      <td>Velvet</td>\n",
       "      <td>4</td>\n",
       "    </tr>\n",
       "  </tbody>\n",
       "</table>\n",
       "</div>"
      ],
      "text/plain": [
       "                                        title  duration\n",
       "5912                             Supernatural        15\n",
       "4404                                   Naruto         9\n",
       "1181                         Call the Midwife         9\n",
       "584                                     Arrow         8\n",
       "6415            The Great British Baking Show         8\n",
       "5291                              Royal Pains         8\n",
       "6359                                The Flash         6\n",
       "2130                             Father Brown         6\n",
       "1470         Comedians in Cars Getting Coffee         6\n",
       "2313         Fullmetal Alchemist: Brotherhood         5\n",
       "5908                                Supergirl         5\n",
       "2504                                   Gotham         5\n",
       "1647                 DC's Legends of Tomorrow         5\n",
       "4121  Miraculous: Tales of Ladybug & Cat Noir         5\n",
       "4047                                   Merlin         5\n",
       "4033                         Men on a Mission         5\n",
       "5226                                Riverdale         4\n",
       "3544                    Last Tango in Halifax         4\n",
       "1687                     Degrassi: Next Class         4\n",
       "7400                                   Velvet         4"
      ]
     },
     "execution_count": 38,
     "metadata": {},
     "output_type": "execute_result"
    }
   ],
   "source": [
    "tv_show = tv_show.sort_values(by='duration',ascending=False)\n",
    "tv_show[0:20]"
   ]
  },
  {
   "cell_type": "code",
   "execution_count": 39,
   "metadata": {
    "colab": {
     "base_uri": "https://localhost:8080/",
     "height": 502
    },
    "id": "WLjS39H_N0Wn",
    "outputId": "f162deec-c0dd-4781-b371-d6acc3f14b42"
   },
   "outputs": [
    {
     "data": {
      "text/plain": [
       "<AxesSubplot:xlabel='title'>"
      ]
     },
     "execution_count": 39,
     "metadata": {},
     "output_type": "execute_result"
    },
    {
     "data": {
      "text/plain": [
       "<Figure size 864x864 with 0 Axes>"
      ]
     },
     "metadata": {},
     "output_type": "display_data"
    },
    {
     "data": {
      "image/png": "[encoded data removed]",
      "text/plain": [
       "<Figure size 432x288 with 1 Axes>"
      ]
     },
     "metadata": {},
     "output_type": "display_data"
    }
   ],
   "source": [
    "plt.figure(figsize=(12,12))\n",
    "tv_show[:20].plot(kind='bar',x='title',y='duration',color='green')"
   ]
  },
  {
   "cell_type": "code",
   "execution_count": 40,
   "metadata": {
    "colab": {
     "base_uri": "https://localhost:8080/"
    },
    "id": "etEV3vT_OXHm",
    "outputId": "79e0ba3d-1455-453b-df58-40682aa5a33f"
   },
   "outputs": [
    {
     "data": {
      "text/plain": [
       "1    After a devastating earthquake hits Mexico Cit...\n",
       "2    When an army recruit is found dead, his fellow...\n",
       "3    In a postapocalyptic world, rag-doll robots hi...\n",
       "4    A brilliant group of students become card-coun...\n",
       "5    A genetics professor experiments with a treatm...\n",
       "Name: description, dtype: object"
      ]
     },
     "execution_count": 40,
     "metadata": {},
     "output_type": "execute_result"
    }
   ],
   "source": [
    "df['description'].head()"
   ]
  },
  {
   "cell_type": "code",
   "execution_count": 41,
   "metadata": {
    "id": "ZiveizR_PF1Y"
   },
   "outputs": [],
   "source": [
    "from sklearn.feature_extraction.text import TfidfVectorizer\n",
    "# Define a TF-IDF Vectorizer Object. Remove all english stop words\n",
    "tfidf = TfidfVectorizer(stop_words='english')"
   ]
  },
  {
   "cell_type": "code",
   "execution_count": 42,
   "metadata": {
    "colab": {
     "base_uri": "https://localhost:8080/"
    },
    "id": "Ui5SD_2hPvV7",
    "outputId": "a75e7560-a80f-4831-d1ef-1bf9af0c16c2"
   },
   "outputs": [
    {
     "data": {
      "text/plain": [
       "(4979, 13910)"
      ]
     },
     "execution_count": 42,
     "metadata": {},
     "output_type": "execute_result"
    }
   ],
   "source": [
    "df['description'].fillna('',inplace=True)\n",
    "tfidf_matrix = tfidf.fit_transform(df['description'])\n",
    "tfidf_matrix.shape"
   ]
  },
  {
   "cell_type": "code",
   "execution_count": 43,
   "metadata": {
    "id": "pwwygxYyQUb9"
   },
   "outputs": [],
   "source": [
    "from sklearn.metrics.pairwise import linear_kernel\n",
    "\n",
    "# Compute the cosine similarity matrix\n",
    "cosine_sim = linear_kernel(tfidf_matrix, tfidf_matrix)"
   ]
  },
  {
   "cell_type": "code",
   "execution_count": 44,
   "metadata": {
    "id": "ySdQ3gXPQdEP"
   },
   "outputs": [],
   "source": [
    "#Construct a reverse map of indices and movie titles\n",
    "indices = pd.Series(df.index, index=df['title']).drop_duplicates()"
   ]
  },
  {
   "cell_type": "code",
   "execution_count": 45,
   "metadata": {
    "id": "vCYZATZ8QpWN"
   },
   "outputs": [],
   "source": [
    "def get_recommendations(title, cosine_sim=cosine_sim):\n",
    "    idx = indices[title]\n",
    "\n",
    "    # Get the pairwsie similarity scores of all movies with that movie\n",
    "    sim_scores = list(enumerate(cosine_sim[idx]))\n",
    "\n",
    "    # Sort the movies based on the similarity scores\n",
    "    sim_scores = sorted(sim_scores, key=lambda x: x[1], reverse=True)\n",
    "\n",
    "    # Get the scores of the 10 most similar movies\n",
    "    sim_scores = sim_scores[1:11]\n",
    "\n",
    "    # Get the movie indices\n",
    "    movie_indices = [i[0] for i in sim_scores]\n",
    "\n",
    "    # Return the top 10 most similar movies\n",
    "    return df['title'].iloc[movie_indices]"
   ]
  },
  {
   "cell_type": "code",
   "execution_count": 46,
   "metadata": {
    "colab": {
     "base_uri": "https://localhost:8080/"
    },
    "id": "aGzO9jYsRIEQ",
    "outputId": "695a6ef6-e255-4e0f-83dc-011467611934"
   },
   "outputs": [
    {
     "data": {
      "text/plain": [
       "4427    Natural Selection\n",
       "4137           Miss India\n",
       "6156      The Book of Sun\n",
       "4989           Prom Night\n",
       "6341     The F**k-It List\n",
       "765                Battle\n",
       "1145              Burning\n",
       "7326             Uncorked\n",
       "7662              Work It\n",
       "5242            Rock On!!\n",
       "Name: title, dtype: object"
      ]
     },
     "execution_count": 46,
     "metadata": {},
     "output_type": "execute_result"
    }
   ],
   "source": [
    "get_recommendations('#realityhigh')"
   ]
  },
  {
   "cell_type": "code",
   "execution_count": 47,
   "metadata": {
    "colab": {
     "base_uri": "https://localhost:8080/"
    },
    "id": "gcxnNEWvRNci",
    "outputId": "5f8f6117-141b-4548-a588-bdcc59280100"
   },
   "outputs": [
    {
     "data": {
      "text/plain": [
       "133                                7 años\n",
       "4803                               Payday\n",
       "3478                    Kyaa Kool Hai Hum\n",
       "1243                    Catching Feelings\n",
       "3940    Mariah Carey's Merriest Christmas\n",
       "2154                                Fifty\n",
       "3703                                 Loev\n",
       "1269                              Chameli\n",
       "3576         LEGENDS OF THE HIDDEN TEMPLE\n",
       "7754                                 Yuva\n",
       "Name: title, dtype: object"
      ]
     },
     "execution_count": 47,
     "metadata": {},
     "output_type": "execute_result"
    }
   ],
   "source": [
    "get_recommendations('PK')"
   ]
  },
  {
   "cell_type": "code",
   "execution_count": 48,
   "metadata": {
    "id": "Fcno3RUnRYBl"
   },
   "outputs": [],
   "source": [
    "features=['listed_in','director','cast','description','title']\n",
    "filters = df[features]"
   ]
  },
  {
   "cell_type": "code",
   "execution_count": 49,
   "metadata": {
    "id": "9PfjZJmncZrY"
   },
   "outputs": [],
   "source": [
    "def clean_data(x):\n",
    "        return str.lower(x.replace(\" \", \"\"))"
   ]
  },
  {
   "cell_type": "code",
   "execution_count": 50,
   "metadata": {
    "colab": {
     "base_uri": "https://localhost:8080/",
     "height": 203
    },
    "id": "mC0CgQFaS5NH",
    "outputId": "b5674540-3a29-4229-babf-469860982fd3"
   },
   "outputs": [
    {
     "data": {
      "text/html": [
       "<div>\n",
       "<style scoped>\n",
       "    .dataframe tbody tr th:only-of-type {\n",
       "        vertical-align: middle;\n",
       "    }\n",
       "\n",
       "    .dataframe tbody tr th {\n",
       "        vertical-align: top;\n",
       "    }\n",
       "\n",
       "    .dataframe thead th {\n",
       "        text-align: right;\n",
       "    }\n",
       "</style>\n",
       "<table border=\"1\" class=\"dataframe\">\n",
       "  <thead>\n",
       "    <tr style=\"text-align: right;\">\n",
       "      <th></th>\n",
       "      <th>listed_in</th>\n",
       "      <th>director</th>\n",
       "      <th>cast</th>\n",
       "      <th>description</th>\n",
       "      <th>title</th>\n",
       "    </tr>\n",
       "  </thead>\n",
       "  <tbody>\n",
       "    <tr>\n",
       "      <th>1</th>\n",
       "      <td>dramas</td>\n",
       "      <td>jorgemichelgrau</td>\n",
       "      <td>demiánbichir,héctorbonilla,oscarserrano,azalia...</td>\n",
       "      <td>afteradevastatingearthquakehitsmexicocity,trap...</td>\n",
       "      <td>7:19</td>\n",
       "    </tr>\n",
       "    <tr>\n",
       "      <th>2</th>\n",
       "      <td>horrormovies</td>\n",
       "      <td>gilbertchan</td>\n",
       "      <td>teddchan,stellachung,henleyhii,lawrencekoh,tom...</td>\n",
       "      <td>whenanarmyrecruitisfounddead,hisfellowsoldiers...</td>\n",
       "      <td>23:59</td>\n",
       "    </tr>\n",
       "    <tr>\n",
       "      <th>3</th>\n",
       "      <td>action&amp;adventure</td>\n",
       "      <td>shaneacker</td>\n",
       "      <td>elijahwood,johnc.reilly,jenniferconnelly,chris...</td>\n",
       "      <td>inapostapocalypticworld,rag-dollrobotshideinfe...</td>\n",
       "      <td>9</td>\n",
       "    </tr>\n",
       "    <tr>\n",
       "      <th>4</th>\n",
       "      <td>dramas</td>\n",
       "      <td>robertluketic</td>\n",
       "      <td>jimsturgess,kevinspacey,katebosworth,aaronyoo,...</td>\n",
       "      <td>abrilliantgroupofstudentsbecomecard-countingex...</td>\n",
       "      <td>21</td>\n",
       "    </tr>\n",
       "    <tr>\n",
       "      <th>5</th>\n",
       "      <td>internationaltvshows</td>\n",
       "      <td>serdarakar</td>\n",
       "      <td>erdalbeşikçioğlu,yaseminallen,melisbirkan,sayg...</td>\n",
       "      <td>ageneticsprofessorexperimentswithatreatmentfor...</td>\n",
       "      <td>46</td>\n",
       "    </tr>\n",
       "  </tbody>\n",
       "</table>\n",
       "</div>"
      ],
      "text/plain": [
       "              listed_in         director  \\\n",
       "1                dramas  jorgemichelgrau   \n",
       "2          horrormovies      gilbertchan   \n",
       "3      action&adventure       shaneacker   \n",
       "4                dramas    robertluketic   \n",
       "5  internationaltvshows       serdarakar   \n",
       "\n",
       "                                                cast  \\\n",
       "1  demiánbichir,héctorbonilla,oscarserrano,azalia...   \n",
       "2  teddchan,stellachung,henleyhii,lawrencekoh,tom...   \n",
       "3  elijahwood,johnc.reilly,jenniferconnelly,chris...   \n",
       "4  jimsturgess,kevinspacey,katebosworth,aaronyoo,...   \n",
       "5  erdalbeşikçioğlu,yaseminallen,melisbirkan,sayg...   \n",
       "\n",
       "                                         description  title  \n",
       "1  afteradevastatingearthquakehitsmexicocity,trap...   7:19  \n",
       "2  whenanarmyrecruitisfounddead,hisfellowsoldiers...  23:59  \n",
       "3  inapostapocalypticworld,rag-dollrobotshideinfe...      9  \n",
       "4  abrilliantgroupofstudentsbecomecard-countingex...     21  \n",
       "5  ageneticsprofessorexperimentswithatreatmentfor...     46  "
      ]
     },
     "execution_count": 50,
     "metadata": {},
     "output_type": "execute_result"
    }
   ],
   "source": [
    "# for feature in features:\n",
    "#   filters[feature] = filters[feature].apply(lambda x:str(x).replace(\" \",\"\"))\n",
    "# filters.head()\n",
    "for feature in features:\n",
    "    filters[feature] = filters[feature].apply(clean_data)\n",
    "    \n",
    "filters.head()"
   ]
  },
  {
   "cell_type": "code",
   "execution_count": 51,
   "metadata": {
    "id": "YAoQUtphUATq"
   },
   "outputs": [],
   "source": [
    "def create_soup(x):\n",
    "    return x['director'] + ' ' + x['cast'] + ' ' +x['listed_in']+' '+ x['description']"
   ]
  },
  {
   "cell_type": "code",
   "execution_count": 52,
   "metadata": {
    "id": "lYTJ94siVkP2"
   },
   "outputs": [],
   "source": [
    "filters['soup'] = filters.apply(create_soup, axis=1)"
   ]
  },
  {
   "cell_type": "code",
   "execution_count": 53,
   "metadata": {
    "colab": {
     "base_uri": "https://localhost:8080/",
     "height": 307
    },
    "id": "Kt_7QqvrVp_F",
    "outputId": "90c9955c-3fb2-4cde-a02b-c524dfaef4d4"
   },
   "outputs": [
    {
     "data": {
      "text/html": [
       "<div>\n",
       "<style scoped>\n",
       "    .dataframe tbody tr th:only-of-type {\n",
       "        vertical-align: middle;\n",
       "    }\n",
       "\n",
       "    .dataframe tbody tr th {\n",
       "        vertical-align: top;\n",
       "    }\n",
       "\n",
       "    .dataframe thead th {\n",
       "        text-align: right;\n",
       "    }\n",
       "</style>\n",
       "<table border=\"1\" class=\"dataframe\">\n",
       "  <thead>\n",
       "    <tr style=\"text-align: right;\">\n",
       "      <th></th>\n",
       "      <th>listed_in</th>\n",
       "      <th>director</th>\n",
       "      <th>cast</th>\n",
       "      <th>description</th>\n",
       "      <th>title</th>\n",
       "      <th>soup</th>\n",
       "    </tr>\n",
       "  </thead>\n",
       "  <tbody>\n",
       "    <tr>\n",
       "      <th>1</th>\n",
       "      <td>dramas</td>\n",
       "      <td>jorgemichelgrau</td>\n",
       "      <td>demiánbichir,héctorbonilla,oscarserrano,azalia...</td>\n",
       "      <td>afteradevastatingearthquakehitsmexicocity,trap...</td>\n",
       "      <td>7:19</td>\n",
       "      <td>jorgemichelgrau demiánbichir,héctorbonilla,osc...</td>\n",
       "    </tr>\n",
       "    <tr>\n",
       "      <th>2</th>\n",
       "      <td>horrormovies</td>\n",
       "      <td>gilbertchan</td>\n",
       "      <td>teddchan,stellachung,henleyhii,lawrencekoh,tom...</td>\n",
       "      <td>whenanarmyrecruitisfounddead,hisfellowsoldiers...</td>\n",
       "      <td>23:59</td>\n",
       "      <td>gilbertchan teddchan,stellachung,henleyhii,law...</td>\n",
       "    </tr>\n",
       "    <tr>\n",
       "      <th>3</th>\n",
       "      <td>action&amp;adventure</td>\n",
       "      <td>shaneacker</td>\n",
       "      <td>elijahwood,johnc.reilly,jenniferconnelly,chris...</td>\n",
       "      <td>inapostapocalypticworld,rag-dollrobotshideinfe...</td>\n",
       "      <td>9</td>\n",
       "      <td>shaneacker elijahwood,johnc.reilly,jennifercon...</td>\n",
       "    </tr>\n",
       "    <tr>\n",
       "      <th>4</th>\n",
       "      <td>dramas</td>\n",
       "      <td>robertluketic</td>\n",
       "      <td>jimsturgess,kevinspacey,katebosworth,aaronyoo,...</td>\n",
       "      <td>abrilliantgroupofstudentsbecomecard-countingex...</td>\n",
       "      <td>21</td>\n",
       "      <td>robertluketic jimsturgess,kevinspacey,katebosw...</td>\n",
       "    </tr>\n",
       "    <tr>\n",
       "      <th>5</th>\n",
       "      <td>internationaltvshows</td>\n",
       "      <td>serdarakar</td>\n",
       "      <td>erdalbeşikçioğlu,yaseminallen,melisbirkan,sayg...</td>\n",
       "      <td>ageneticsprofessorexperimentswithatreatmentfor...</td>\n",
       "      <td>46</td>\n",
       "      <td>serdarakar erdalbeşikçioğlu,yaseminallen,melis...</td>\n",
       "    </tr>\n",
       "  </tbody>\n",
       "</table>\n",
       "</div>"
      ],
      "text/plain": [
       "              listed_in         director  \\\n",
       "1                dramas  jorgemichelgrau   \n",
       "2          horrormovies      gilbertchan   \n",
       "3      action&adventure       shaneacker   \n",
       "4                dramas    robertluketic   \n",
       "5  internationaltvshows       serdarakar   \n",
       "\n",
       "                                                cast  \\\n",
       "1  demiánbichir,héctorbonilla,oscarserrano,azalia...   \n",
       "2  teddchan,stellachung,henleyhii,lawrencekoh,tom...   \n",
       "3  elijahwood,johnc.reilly,jenniferconnelly,chris...   \n",
       "4  jimsturgess,kevinspacey,katebosworth,aaronyoo,...   \n",
       "5  erdalbeşikçioğlu,yaseminallen,melisbirkan,sayg...   \n",
       "\n",
       "                                         description  title  \\\n",
       "1  afteradevastatingearthquakehitsmexicocity,trap...   7:19   \n",
       "2  whenanarmyrecruitisfounddead,hisfellowsoldiers...  23:59   \n",
       "3  inapostapocalypticworld,rag-dollrobotshideinfe...      9   \n",
       "4  abrilliantgroupofstudentsbecomecard-countingex...     21   \n",
       "5  ageneticsprofessorexperimentswithatreatmentfor...     46   \n",
       "\n",
       "                                                soup  \n",
       "1  jorgemichelgrau demiánbichir,héctorbonilla,osc...  \n",
       "2  gilbertchan teddchan,stellachung,henleyhii,law...  \n",
       "3  shaneacker elijahwood,johnc.reilly,jennifercon...  \n",
       "4  robertluketic jimsturgess,kevinspacey,katebosw...  \n",
       "5  serdarakar erdalbeşikçioğlu,yaseminallen,melis...  "
      ]
     },
     "execution_count": 53,
     "metadata": {},
     "output_type": "execute_result"
    }
   ],
   "source": [
    "filters.head()"
   ]
  },
  {
   "cell_type": "code",
   "execution_count": 54,
   "metadata": {
    "id": "tq7T5yY5VxPI"
   },
   "outputs": [],
   "source": [
    "from sklearn.feature_extraction.text import CountVectorizer\n",
    "count = CountVectorizer(stop_words='english')\n",
    "count_matrix = count.fit_transform(filters['soup'])"
   ]
  },
  {
   "cell_type": "code",
   "execution_count": 55,
   "metadata": {
    "id": "z6_7sGsuXdk6"
   },
   "outputs": [],
   "source": [
    "from sklearn.metrics.pairwise import cosine_similarity\n",
    "cosine_sim2 = cosine_similarity(count_matrix,count_matrix)\n"
   ]
  },
  {
   "cell_type": "code",
   "execution_count": 56,
   "metadata": {
    "colab": {
     "base_uri": "https://localhost:8080/",
     "height": 605
    },
    "id": "-s76xqoSYC_Z",
    "outputId": "659f7733-add9-4870-9699-cf985bfc999c"
   },
   "outputs": [
    {
     "data": {
      "text/html": [
       "<div>\n",
       "<style scoped>\n",
       "    .dataframe tbody tr th:only-of-type {\n",
       "        vertical-align: middle;\n",
       "    }\n",
       "\n",
       "    .dataframe tbody tr th {\n",
       "        vertical-align: top;\n",
       "    }\n",
       "\n",
       "    .dataframe thead th {\n",
       "        text-align: right;\n",
       "    }\n",
       "</style>\n",
       "<table border=\"1\" class=\"dataframe\">\n",
       "  <thead>\n",
       "    <tr style=\"text-align: right;\">\n",
       "      <th></th>\n",
       "      <th>listed_in</th>\n",
       "      <th>director</th>\n",
       "      <th>cast</th>\n",
       "      <th>description</th>\n",
       "      <th>title</th>\n",
       "      <th>soup</th>\n",
       "    </tr>\n",
       "  </thead>\n",
       "  <tbody>\n",
       "    <tr>\n",
       "      <th>1</th>\n",
       "      <td>dramas</td>\n",
       "      <td>jorgemichelgrau</td>\n",
       "      <td>demiánbichir,héctorbonilla,oscarserrano,azalia...</td>\n",
       "      <td>afteradevastatingearthquakehitsmexicocity,trap...</td>\n",
       "      <td>7:19</td>\n",
       "      <td>jorgemichelgrau demiánbichir,héctorbonilla,osc...</td>\n",
       "    </tr>\n",
       "    <tr>\n",
       "      <th>2</th>\n",
       "      <td>horrormovies</td>\n",
       "      <td>gilbertchan</td>\n",
       "      <td>teddchan,stellachung,henleyhii,lawrencekoh,tom...</td>\n",
       "      <td>whenanarmyrecruitisfounddead,hisfellowsoldiers...</td>\n",
       "      <td>23:59</td>\n",
       "      <td>gilbertchan teddchan,stellachung,henleyhii,law...</td>\n",
       "    </tr>\n",
       "    <tr>\n",
       "      <th>3</th>\n",
       "      <td>action&amp;adventure</td>\n",
       "      <td>shaneacker</td>\n",
       "      <td>elijahwood,johnc.reilly,jenniferconnelly,chris...</td>\n",
       "      <td>inapostapocalypticworld,rag-dollrobotshideinfe...</td>\n",
       "      <td>9</td>\n",
       "      <td>shaneacker elijahwood,johnc.reilly,jennifercon...</td>\n",
       "    </tr>\n",
       "    <tr>\n",
       "      <th>4</th>\n",
       "      <td>dramas</td>\n",
       "      <td>robertluketic</td>\n",
       "      <td>jimsturgess,kevinspacey,katebosworth,aaronyoo,...</td>\n",
       "      <td>abrilliantgroupofstudentsbecomecard-countingex...</td>\n",
       "      <td>21</td>\n",
       "      <td>robertluketic jimsturgess,kevinspacey,katebosw...</td>\n",
       "    </tr>\n",
       "    <tr>\n",
       "      <th>5</th>\n",
       "      <td>internationaltvshows</td>\n",
       "      <td>serdarakar</td>\n",
       "      <td>erdalbeşikçioğlu,yaseminallen,melisbirkan,sayg...</td>\n",
       "      <td>ageneticsprofessorexperimentswithatreatmentfor...</td>\n",
       "      <td>46</td>\n",
       "      <td>serdarakar erdalbeşikçioğlu,yaseminallen,melis...</td>\n",
       "    </tr>\n",
       "    <tr>\n",
       "      <th>...</th>\n",
       "      <td>...</td>\n",
       "      <td>...</td>\n",
       "      <td>...</td>\n",
       "      <td>...</td>\n",
       "      <td>...</td>\n",
       "      <td>...</td>\n",
       "    </tr>\n",
       "    <tr>\n",
       "      <th>7778</th>\n",
       "      <td>comedies</td>\n",
       "      <td>rubenfleischer</td>\n",
       "      <td>jesseeisenberg,woodyharrelson,emmastone,abigai...</td>\n",
       "      <td>lookingtosurviveinaworldtakenoverbyzombies,ado...</td>\n",
       "      <td>zombieland</td>\n",
       "      <td>rubenfleischer jesseeisenberg,woodyharrelson,e...</td>\n",
       "    </tr>\n",
       "    <tr>\n",
       "      <th>7780</th>\n",
       "      <td>dramas</td>\n",
       "      <td>shloksharma</td>\n",
       "      <td>shashankarora,shwetatripathi,rahulkumar,gopalk...</td>\n",
       "      <td>adrugdealerstartshavingdoubtsabouthistradeashi...</td>\n",
       "      <td>zoo</td>\n",
       "      <td>shloksharma shashankarora,shwetatripathi,rahul...</td>\n",
       "    </tr>\n",
       "    <tr>\n",
       "      <th>7781</th>\n",
       "      <td>children&amp;familymovies</td>\n",
       "      <td>peterhewitt</td>\n",
       "      <td>timallen,courteneycox,chevychase,katemara,ryan...</td>\n",
       "      <td>draggedfromcivilianlife,aformersuperheromusttr...</td>\n",
       "      <td>zoom</td>\n",
       "      <td>peterhewitt timallen,courteneycox,chevychase,k...</td>\n",
       "    </tr>\n",
       "    <tr>\n",
       "      <th>7782</th>\n",
       "      <td>dramas</td>\n",
       "      <td>joseffares</td>\n",
       "      <td>imadcreidi,antoinetteturk,eliasgergi,carmenleb...</td>\n",
       "      <td>whenlebanon'scivilwardepriveszozoofhisfamily,h...</td>\n",
       "      <td>zozo</td>\n",
       "      <td>joseffares imadcreidi,antoinetteturk,eliasgerg...</td>\n",
       "    </tr>\n",
       "    <tr>\n",
       "      <th>7783</th>\n",
       "      <td>dramas</td>\n",
       "      <td>mozezsingh</td>\n",
       "      <td>vickykaushal,sarah-janedias,raaghavchanana,man...</td>\n",
       "      <td>ascrappybutpoorboywormshiswayintoatycoon'sdysf...</td>\n",
       "      <td>zubaan</td>\n",
       "      <td>mozezsingh vickykaushal,sarah-janedias,raaghav...</td>\n",
       "    </tr>\n",
       "  </tbody>\n",
       "</table>\n",
       "<p>4979 rows × 6 columns</p>\n",
       "</div>"
      ],
      "text/plain": [
       "                  listed_in         director  \\\n",
       "1                    dramas  jorgemichelgrau   \n",
       "2              horrormovies      gilbertchan   \n",
       "3          action&adventure       shaneacker   \n",
       "4                    dramas    robertluketic   \n",
       "5      internationaltvshows       serdarakar   \n",
       "...                     ...              ...   \n",
       "7778               comedies   rubenfleischer   \n",
       "7780                 dramas      shloksharma   \n",
       "7781  children&familymovies      peterhewitt   \n",
       "7782                 dramas       joseffares   \n",
       "7783                 dramas       mozezsingh   \n",
       "\n",
       "                                                   cast  \\\n",
       "1     demiánbichir,héctorbonilla,oscarserrano,azalia...   \n",
       "2     teddchan,stellachung,henleyhii,lawrencekoh,tom...   \n",
       "3     elijahwood,johnc.reilly,jenniferconnelly,chris...   \n",
       "4     jimsturgess,kevinspacey,katebosworth,aaronyoo,...   \n",
       "5     erdalbeşikçioğlu,yaseminallen,melisbirkan,sayg...   \n",
       "...                                                 ...   \n",
       "7778  jesseeisenberg,woodyharrelson,emmastone,abigai...   \n",
       "7780  shashankarora,shwetatripathi,rahulkumar,gopalk...   \n",
       "7781  timallen,courteneycox,chevychase,katemara,ryan...   \n",
       "7782  imadcreidi,antoinetteturk,eliasgergi,carmenleb...   \n",
       "7783  vickykaushal,sarah-janedias,raaghavchanana,man...   \n",
       "\n",
       "                                            description       title  \\\n",
       "1     afteradevastatingearthquakehitsmexicocity,trap...        7:19   \n",
       "2     whenanarmyrecruitisfounddead,hisfellowsoldiers...       23:59   \n",
       "3     inapostapocalypticworld,rag-dollrobotshideinfe...           9   \n",
       "4     abrilliantgroupofstudentsbecomecard-countingex...          21   \n",
       "5     ageneticsprofessorexperimentswithatreatmentfor...          46   \n",
       "...                                                 ...         ...   \n",
       "7778  lookingtosurviveinaworldtakenoverbyzombies,ado...  zombieland   \n",
       "7780  adrugdealerstartshavingdoubtsabouthistradeashi...         zoo   \n",
       "7781  draggedfromcivilianlife,aformersuperheromusttr...        zoom   \n",
       "7782  whenlebanon'scivilwardepriveszozoofhisfamily,h...        zozo   \n",
       "7783  ascrappybutpoorboywormshiswayintoatycoon'sdysf...      zubaan   \n",
       "\n",
       "                                                   soup  \n",
       "1     jorgemichelgrau demiánbichir,héctorbonilla,osc...  \n",
       "2     gilbertchan teddchan,stellachung,henleyhii,law...  \n",
       "3     shaneacker elijahwood,johnc.reilly,jennifercon...  \n",
       "4     robertluketic jimsturgess,kevinspacey,katebosw...  \n",
       "5     serdarakar erdalbeşikçioğlu,yaseminallen,melis...  \n",
       "...                                                 ...  \n",
       "7778  rubenfleischer jesseeisenberg,woodyharrelson,e...  \n",
       "7780  shloksharma shashankarora,shwetatripathi,rahul...  \n",
       "7781  peterhewitt timallen,courteneycox,chevychase,k...  \n",
       "7782  joseffares imadcreidi,antoinetteturk,eliasgerg...  \n",
       "7783  mozezsingh vickykaushal,sarah-janedias,raaghav...  \n",
       "\n",
       "[4979 rows x 6 columns]"
      ]
     },
     "execution_count": 56,
     "metadata": {},
     "output_type": "execute_result"
    }
   ],
   "source": [
    "filters"
   ]
  },
  {
   "cell_type": "code",
   "execution_count": 57,
   "metadata": {
    "id": "icYVtKE0YyfX"
   },
   "outputs": [],
   "source": [
    "filters=filters.reset_index()\n",
    "indices = pd.Series(filters.index, index=filters['title'])"
   ]
  },
  {
   "cell_type": "code",
   "execution_count": 99,
   "metadata": {
    "id": "OODBw74NZTMh"
   },
   "outputs": [],
   "source": [
    "def get_recommendations_new(title, cosine_sim=cosine_sim):\n",
    "    title=title.replace(' ','').lower()\n",
    "    idx = indices[title]\n",
    "\n",
    "    # Get the pairwsie similarity scores of all movies with that movie\n",
    "    sim_scores = list(enumerate(cosine_sim[idx]))\n",
    "\n",
    "    # Sort the movies based on the similarity scores\n",
    "    sim_scores = sorted(sim_scores, key=lambda x: x[1], reverse=True)\n",
    "\n",
    "    # Get the scores of the 10 most similar movies\n",
    "    sim_scores = sim_scores[1:11]\n",
    "\n",
    "    # Get the movie indices\n",
    "    movie_indices = [i[0] for i in sim_scores]\n",
    "\n",
    "    # Return the top 10 most similar movies\n",
    "    return df['title'].iloc[movie_indices]"
   ]
  },
  {
   "cell_type": "code",
   "execution_count": 100,
   "metadata": {
    "colab": {
     "base_uri": "https://localhost:8080/"
    },
    "id": "W2PPqddiZfwe",
    "outputId": "a1af35f9-7b1e-44cb-a0bb-a3944e4ccd37"
   },
   "outputs": [
    {
     "data": {
      "text/plain": [
       "4247    Mowgli: Legend of the Jungle\n",
       "1236                 Casino Tycoon 2\n",
       "2837                     How It Ends\n",
       "5750            Spenser Confidential\n",
       "7392                   Vantage Point\n",
       "718                     Bang Rajan 2\n",
       "4607              Olympus Has Fallen\n",
       "1569                     Da 5 Bloods\n",
       "3006                        Inkheart\n",
       "4667              Operation Chromite\n",
       "Name: title, dtype: object"
      ]
     },
     "execution_count": 100,
     "metadata": {},
     "output_type": "execute_result"
    }
   ],
   "source": [
    "get_recommendations_new('Black panther', cosine_sim2)"
   ]
  },
  {
   "cell_type": "code",
   "execution_count": 111,
   "metadata": {
    "colab": {
     "base_uri": "https://localhost:8080/"
    },
    "id": "kyu-KgDjcxqR",
    "outputId": "3f2c2f6b-033f-4b51-8b76-24fb10b46c7f"
   },
   "outputs": [
    {
     "data": {
      "text/plain": [
       "100                         3 Idiots\n",
       "6585    The Legend of Michael Mishra\n",
       "552                Anthony Kaun Hai?\n",
       "4278                  Mumbai Matinee\n",
       "1004                    BluffMaster!\n",
       "2149              Ferrari Ki Sawaari\n",
       "1271                 Chance Pe Dance\n",
       "1831                         Dostana\n",
       "1878                           Drive\n",
       "1940              Ek Main Aur Ekk Tu\n",
       "Name: title, dtype: object"
      ]
     },
     "execution_count": 111,
     "metadata": {},
     "output_type": "execute_result"
    }
   ],
   "source": [
    "get_recommendations_new('PK', cosine_sim2)"
   ]
  },
  {
   "cell_type": "code",
   "execution_count": 66,
   "metadata": {},
   "outputs": [],
   "source": [
    "import pickle"
   ]
  },
  {
   "cell_type": "code",
   "execution_count": 62,
   "metadata": {},
   "outputs": [],
   "source": [
    "pickle.dump(cosine_sim2, open(\"netflix_titles.pkl\",\"wb\"))"
   ]
  },
  {
   "cell_type": "code",
   "execution_count": 63,
   "metadata": {},
   "outputs": [],
   "source": [
    "# loadedmodel = pickle.load(open(\"netflix_titles.pkl\",\"rb\"))"
   ]
  },
  {
   "cell_type": "code",
   "execution_count": 64,
   "metadata": {},
   "outputs": [],
   "source": [
    "# loadedmodel.get_recommendations_new()"
   ]
  }
 ],
 "metadata": {
  "colab": {
   "name": "netflix.ipynb",
   "provenance": []
  },
  "kernelspec": {
   "display_name": "Python 3 (ipykernel)",
   "language": "python",
   "name": "python3"
  },
  "language_info": {
   "codemirror_mode": {
    "name": "ipython",
    "version": 3
   },
   "file_extension": ".py",
   "mimetype": "text/x-python",
   "name": "python",
   "nbconvert_exporter": "python",
   "pygments_lexer": "ipython3",
   "version": "3.9.2"
  }
 },
 "nbformat": 4,
 "nbformat_minor": 1
}
